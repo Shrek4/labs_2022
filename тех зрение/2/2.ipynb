{
 "cells": [
  {
   "cell_type": "code",
   "execution_count": 1,
   "metadata": {},
   "outputs": [],
   "source": [
    "from skimage import img_as_float\n",
    "from skimage.io import imread\n",
    "from skimage.metrics import structural_similarity, mean_squared_error, peak_signal_noise_ratio"
   ]
  },
  {
   "cell_type": "code",
   "execution_count": 2,
   "metadata": {},
   "outputs": [],
   "source": [
    "def shrek(image1, image2):\n",
    "    image_float = img_as_float(imread(image1))\n",
    "    noise_float = img_as_float(imread(image2))\n",
    "\n",
    "    mse = mean_squared_error(image_float, noise_float)\n",
    "    psnr = peak_signal_noise_ratio(image_float, noise_float)\n",
    "    ssim = structural_similarity(image_float, noise_float, channel_axis=2)\n",
    "\n",
    "    print(f\"MSE = {round(mse,5)}\")\n",
    "    print(f\"PSNR = {round(psnr,5)}\")\n",
    "    print(f\"SSIM = {round(ssim,5)}\\n\")"
   ]
  },
  {
   "cell_type": "code",
   "execution_count": 3,
   "metadata": {},
   "outputs": [
    {
     "name": "stdout",
     "output_type": "stream",
     "text": [
      "MSE = 0.00577\n",
      "PSNR = 22.38819\n",
      "SSIM = 0.9548\n",
      "\n",
      "MSE = 0.00526\n",
      "PSNR = 22.79092\n",
      "SSIM = 0.4795\n",
      "\n",
      "MSE = 0.00046\n",
      "PSNR = 33.36513\n",
      "SSIM = 0.96674\n",
      "\n"
     ]
    }
   ],
   "source": [
    "shrek('мало1.jpg','мало12.jpg')\n",
    "\n",
    "shrek('мало2.jpg','мало22.jpg')\n",
    "\n",
    "shrek('мало3.jpg','мало32.jpg')"
   ]
  },
  {
   "cell_type": "code",
   "execution_count": 4,
   "metadata": {},
   "outputs": [
    {
     "name": "stdout",
     "output_type": "stream",
     "text": [
      "MSE = 0.00012\n",
      "PSNR = 39.21729\n",
      "SSIM = 0.98327\n",
      "\n",
      "MSE = 0.00098\n",
      "PSNR = 30.07837\n",
      "SSIM = 0.90249\n",
      "\n",
      "MSE = 0.00509\n",
      "PSNR = 22.93044\n",
      "SSIM = 0.50965\n",
      "\n"
     ]
    }
   ],
   "source": [
    "shrek('средне1.jpg',\"средне12.jpg\")\n",
    "\n",
    "shrek('средне2.jpg','средне22.jpg')\n",
    "\n",
    "shrek('средне3.png','средне32.png')"
   ]
  },
  {
   "cell_type": "code",
   "execution_count": 5,
   "metadata": {},
   "outputs": [
    {
     "name": "stdout",
     "output_type": "stream",
     "text": [
      "MSE = 0.0033\n",
      "PSNR = 24.81588\n",
      "SSIM = 0.90181\n",
      "\n",
      "MSE = 0.00746\n",
      "PSNR = 21.27265\n",
      "SSIM = 0.81772\n",
      "\n",
      "MSE = 0.00483\n",
      "PSNR = 23.16181\n",
      "SSIM = 0.65134\n",
      "\n"
     ]
    }
   ],
   "source": [
    "shrek('много1.png','много12.png')\n",
    "\n",
    "shrek('много2.jpg','много22.jpg')\n",
    "\n",
    "shrek('много3.jpg','много32.jpg')"
   ]
  }
 ],
 "metadata": {
  "interpreter": {
   "hash": "a1df27bbbad40ecdaee24acfc89f0b5773272cabcb6b66c54293a258d4db6eb4"
  },
  "kernelspec": {
   "display_name": "Python 3.10.1 64-bit",
   "language": "python",
   "name": "python3"
  },
  "language_info": {
   "codemirror_mode": {
    "name": "ipython",
    "version": 3
   },
   "file_extension": ".py",
   "mimetype": "text/x-python",
   "name": "python",
   "nbconvert_exporter": "python",
   "pygments_lexer": "ipython3",
   "version": "3.10.1"
  },
  "orig_nbformat": 4
 },
 "nbformat": 4,
 "nbformat_minor": 2
}
