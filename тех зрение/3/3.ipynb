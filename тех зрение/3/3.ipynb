{
 "cells": [
  {
   "cell_type": "code",
   "execution_count": 21,
   "metadata": {},
   "outputs": [],
   "source": [
    "from PIL import Image, ImageDraw, ImageFilter\n",
    "import numpy as np\n",
    "import matplotlib.pylab as plt\n",
    "from skimage import metrics\n",
    "import cv2\n",
    "from skimage.metrics import structural_similarity as ssim\n",
    "from skimage.metrics import mean_squared_error as mse\n",
    "from skimage.metrics import peak_signal_noise_ratio as psnr\n",
    "import math\n"
   ]
  },
  {
   "cell_type": "code",
   "execution_count": 22,
   "metadata": {},
   "outputs": [],
   "source": [
    "FS=0.00366772681*100\n",
    "F=[FS/5, FS/3, FS/2, FS, 1.41*FS, 2*FS, 3*FS]\n",
    "FUNCTION_SDVIG_FAZY=math.pi/2\n",
    "# FUNCTION_SDVIG_FAZY=0"
   ]
  },
  {
   "cell_type": "code",
   "execution_count": 23,
   "metadata": {},
   "outputs": [],
   "source": [
    "def a(x, chastota): # функция синуса\n",
    "    return(0.5*np.sin(x*chastota+FUNCTION_SDVIG_FAZY)+0.5)\n",
    "\n",
    "def b(chastota): # функция дискретизации\n",
    "    sas=np.array([])\n",
    "    for i in np.arange(0,FS*3000,FS):\n",
    "        sas=np.append(sas,a(i, chastota))\n",
    "        # print(i)\n",
    "    return sas\n",
    "\n",
    "def draw(chastota):# вывод графика функции\n",
    "    x=np.arange(0,FS*3000,FS)\n",
    "    plt.plot(x,a(x, chastota))\n",
    "    # plt.xlim(0,300)\n",
    "    plt.ylim(0,1)\n",
    "    plt.show()"
   ]
  },
  {
   "cell_type": "code",
   "execution_count": null,
   "metadata": {},
   "outputs": [],
   "source": []
  }
 ],
 "metadata": {
  "interpreter": {
   "hash": "a1df27bbbad40ecdaee24acfc89f0b5773272cabcb6b66c54293a258d4db6eb4"
  },
  "kernelspec": {
   "display_name": "Python 3.10.1 64-bit",
   "language": "python",
   "name": "python3"
  },
  "language_info": {
   "codemirror_mode": {
    "name": "ipython",
    "version": 3
   },
   "file_extension": ".py",
   "mimetype": "text/x-python",
   "name": "python",
   "nbconvert_exporter": "python",
   "pygments_lexer": "ipython3",
   "version": "3.10.1"
  },
  "orig_nbformat": 4
 },
 "nbformat": 4,
 "nbformat_minor": 2
}
