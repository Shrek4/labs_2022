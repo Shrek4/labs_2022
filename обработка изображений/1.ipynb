{
 "cells": [
  {
   "cell_type": "code",
   "execution_count": 41,
   "metadata": {},
   "outputs": [],
   "source": [
    "from colormath.color_objects import LabColor, LCHabColor, AdobeRGBColor, HSVColor, HSLColor\n",
    "from colormath.color_conversions import convert_color"
   ]
  },
  {
   "cell_type": "code",
   "execution_count": 34,
   "metadata": {},
   "outputs": [],
   "source": [
    "shrek_lab=(50, -128, 128)"
   ]
  },
  {
   "cell_type": "code",
   "execution_count": 35,
   "metadata": {},
   "outputs": [
    {
     "name": "stdout",
     "output_type": "stream",
     "text": [
      "(50.0, 181.01933598375618, 135.0)\n"
     ]
    }
   ],
   "source": [
    "shrek_lch=convert_color(LabColor(shrek_lab[0], shrek_lab[1], shrek_lab[2]), LCHabColor).get_value_tuple()\n",
    "print(shrek_lch)"
   ]
  },
  {
   "cell_type": "code",
   "execution_count": 36,
   "metadata": {},
   "outputs": [
    {
     "name": "stdout",
     "output_type": "stream",
     "text": [
      "(0.0, 0.5985010074629095, 0.0)\n"
     ]
    }
   ],
   "source": [
    "shrek_rgb=convert_color(LabColor(shrek_lab[0], shrek_lab[1], shrek_lab[2]), AdobeRGBColor).get_value_tuple()\n",
    "print(shrek_rgb)"
   ]
  },
  {
   "cell_type": "code",
   "execution_count": 37,
   "metadata": {},
   "outputs": [
    {
     "name": "stdout",
     "output_type": "stream",
     "text": [
      "(120.0, 1.0, 0.604014957245371)\n",
      "(120.0, 1.0, 0.3020074786226855)\n"
     ]
    }
   ],
   "source": [
    "shrek_hsb=convert_color(LabColor(shrek_lab[0], shrek_lab[1], shrek_lab[2]), HSVColor).get_value_tuple()\n",
    "print(shrek_hsb)\n",
    "shrek_hsi=convert_color(LabColor(shrek_lab[0], shrek_lab[1], shrek_lab[2]), HSLColor).get_value_tuple()\n",
    "print(shrek_hsi)"
   ]
  },
  {
   "cell_type": "code",
   "execution_count": 39,
   "metadata": {},
   "outputs": [
    {
     "name": "stdout",
     "output_type": "stream",
     "text": [
      "(50.0, -128.0, 128.00000000000003)\n",
      "(52.15169997835248, -94.69162079086394, 62.336793301632476)\n",
      "(55.19337350856236, -59.14739231905933, 57.08614881758805)\n",
      "(55.19337350856236, -59.14739231905933, 57.08614881758805)\n"
     ]
    }
   ],
   "source": [
    "lch_to_lab=convert_color(LCHabColor(shrek_lch[0], shrek_lch[1], shrek_lch[2]), LabColor).get_value_tuple()\n",
    "rgb_to_lab=convert_color(AdobeRGBColor(shrek_rgb[0], shrek_rgb[1], shrek_rgb[2]), LabColor).get_value_tuple()\n",
    "hsb_to_lab=convert_color(HSVColor(shrek_hsb[0], shrek_hsb[1], shrek_hsb[2]), LabColor).get_value_tuple()\n",
    "hsi_to_lab=convert_color(HSLColor(shrek_hsi[0], shrek_hsi[1], shrek_hsi[2]), LabColor).get_value_tuple()\n",
    "print(lch_to_lab)\n",
    "print(rgb_to_lab)\n",
    "print(hsb_to_lab)\n",
    "print(hsi_to_lab)"
   ]
  },
  {
   "cell_type": "code",
   "execution_count": 49,
   "metadata": {},
   "outputs": [
    {
     "name": "stdout",
     "output_type": "stream",
     "text": [
      "0.0\n",
      "73.65959\n",
      "98.9769\n",
      "98.9769\n"
     ]
    }
   ],
   "source": [
    "#de\n",
    "print( round( ((lch_to_lab[0]-shrek_lab[0])**2+(lch_to_lab[1]-shrek_lab[1])**2+(lch_to_lab[2]-shrek_lab[2])**2)**0.5, 5 ) )\n",
    "print( round( ((rgb_to_lab[0]-shrek_lab[0])**2+(rgb_to_lab[1]-shrek_lab[1])**2+(rgb_to_lab[2]-shrek_lab[2])**2)**0.5, 5 ) )\n",
    "print( round( ((hsb_to_lab[0]-shrek_lab[0])**2+(hsb_to_lab[1]-shrek_lab[1])**2+(hsb_to_lab[2]-shrek_lab[2])**2)**0.5, 5 ) )\n",
    "print( round( ((hsi_to_lab[0]-shrek_lab[0])**2+(hsi_to_lab[1]-shrek_lab[1])**2+(hsi_to_lab[2]-shrek_lab[2])**2)**0.5, 5 ) )"
   ]
  }
 ],
 "metadata": {
  "interpreter": {
   "hash": "7e317df02e7cb3b91ac779da76cd51dda0fd983b26e594052fe8d1f485d1eb38"
  },
  "kernelspec": {
   "display_name": "Python 3.10.1 64-bit",
   "language": "python",
   "name": "python3"
  },
  "language_info": {
   "codemirror_mode": {
    "name": "ipython",
    "version": 3
   },
   "file_extension": ".py",
   "mimetype": "text/x-python",
   "name": "python",
   "nbconvert_exporter": "python",
   "pygments_lexer": "ipython3",
   "version": "3.10.1"
  },
  "orig_nbformat": 4
 },
 "nbformat": 4,
 "nbformat_minor": 2
}
