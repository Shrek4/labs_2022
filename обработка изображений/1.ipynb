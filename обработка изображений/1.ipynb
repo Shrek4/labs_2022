{
 "cells": [
  {
   "cell_type": "code",
   "execution_count": 1,
   "metadata": {},
   "outputs": [],
   "source": [
    "from colormath.color_objects import LabColor, LCHabColor, AdobeRGBColor, HSVColor, HSLColor\n",
    "from colormath.color_conversions import convert_color"
   ]
  },
  {
   "cell_type": "code",
   "execution_count": 2,
   "metadata": {},
   "outputs": [
    {
     "name": "stdout",
     "output_type": "stream",
     "text": [
      "(55.0, -59.0, 57.0)\n"
     ]
    }
   ],
   "source": [
    "shrek_lab=LabColor(55, -59, 57)\n",
    "print(shrek_lab.get_value_tuple())"
   ]
  },
  {
   "cell_type": "code",
   "execution_count": 3,
   "metadata": {},
   "outputs": [
    {
     "name": "stdout",
     "output_type": "stream",
     "text": [
      "(55.0, 82.03657720797473, 135.9877603996398)\n"
     ]
    }
   ],
   "source": [
    "shrek_lch=convert_color(shrek_lab, LCHabColor)\n",
    "print(shrek_lch.get_value_tuple())"
   ]
  },
  {
   "cell_type": "code",
   "execution_count": 4,
   "metadata": {},
   "outputs": [
    {
     "name": "stdout",
     "output_type": "stream",
     "text": [
      "(0.3142851741249685, 0.6012345805398891, 0.1233975436941161)\n"
     ]
    }
   ],
   "source": [
    "shrek_rgb=convert_color(shrek_lab, AdobeRGBColor)\n",
    "print(shrek_rgb.get_value_tuple())"
   ]
  },
  {
   "cell_type": "code",
   "execution_count": 5,
   "metadata": {},
   "outputs": [
    {
     "name": "stdout",
     "output_type": "stream",
     "text": [
      "(120.0, 1.0, 0.6067735652513515)\n",
      "(120.0, 1.0, 0.30338678262567575)\n"
     ]
    }
   ],
   "source": [
    "shrek_hsb=convert_color(shrek_lab, HSVColor)\n",
    "print(shrek_hsb.get_value_tuple())\n",
    "shrek_hsi=convert_color(shrek_lab, HSLColor)\n",
    "print(shrek_hsi.get_value_tuple())"
   ]
  },
  {
   "cell_type": "code",
   "execution_count": 9,
   "metadata": {},
   "outputs": [
    {
     "name": "stdout",
     "output_type": "stream",
     "text": [
      "(55.0, -58.999999999999964, 57.00000000000002)\n",
      "(54.95826645019197, -63.929674298872364, 58.67097124531784)\n",
      "(55.43168377497274, -59.34538027954473, 57.27723704199177)\n",
      "(55.43168377497274, -59.34538027954473, 57.27723704199177)\n"
     ]
    }
   ],
   "source": [
    "lch_to_lab=convert_color(shrek_lch, LabColor)\n",
    "rgb_to_lab=convert_color(shrek_rgb, LabColor)\n",
    "hsb_to_lab=convert_color(shrek_hsb, LabColor)\n",
    "hsi_to_lab=convert_color(shrek_hsi, LabColor)\n",
    "print(lch_to_lab.get_value_tuple())\n",
    "print(rgb_to_lab.get_value_tuple())\n",
    "print(hsb_to_lab.get_value_tuple())\n",
    "print(hsi_to_lab.get_value_tuple())"
   ]
  },
  {
   "cell_type": "code",
   "execution_count": 7,
   "metadata": {},
   "outputs": [
    {
     "name": "stdout",
     "output_type": "stream",
     "text": [
      "0.0\n",
      "5.21\n",
      "0.62\n",
      "0.62\n"
     ]
    }
   ],
   "source": [
    "#de\n",
    "lch_to_lab=lch_to_lab.get_value_tuple()\n",
    "rgb_to_lab=rgb_to_lab.get_value_tuple()\n",
    "hsb_to_lab=hsb_to_lab.get_value_tuple()\n",
    "hsi_to_lab=hsi_to_lab.get_value_tuple()\n",
    "shrek_lab=shrek_lab.get_value_tuple()\n",
    "print( round( ((lch_to_lab[0]-shrek_lab[0])**2+(lch_to_lab[1]-shrek_lab[1])**2+(lch_to_lab[2]-shrek_lab[2])**2)**0.5, 2 ) )\n",
    "print( round( ((rgb_to_lab[0]-shrek_lab[0])**2+(rgb_to_lab[1]-shrek_lab[1])**2+(rgb_to_lab[2]-shrek_lab[2])**2)**0.5, 2 ) )\n",
    "print( round( ((hsb_to_lab[0]-shrek_lab[0])**2+(hsb_to_lab[1]-shrek_lab[1])**2+(hsb_to_lab[2]-shrek_lab[2])**2)**0.5, 2 ) )\n",
    "print( round( ((hsi_to_lab[0]-shrek_lab[0])**2+(hsi_to_lab[1]-shrek_lab[1])**2+(hsi_to_lab[2]-shrek_lab[2])**2)**0.5, 2 ) )"
   ]
  }
 ],
 "metadata": {
  "interpreter": {
   "hash": "7e317df02e7cb3b91ac779da76cd51dda0fd983b26e594052fe8d1f485d1eb38"
  },
  "kernelspec": {
   "display_name": "Python 3.10.1 64-bit",
   "language": "python",
   "name": "python3"
  },
  "language_info": {
   "codemirror_mode": {
    "name": "ipython",
    "version": 3
   },
   "file_extension": ".py",
   "mimetype": "text/x-python",
   "name": "python",
   "nbconvert_exporter": "python",
   "pygments_lexer": "ipython3",
   "version": "3.10.1"
  },
  "orig_nbformat": 4
 },
 "nbformat": 4,
 "nbformat_minor": 2
}
