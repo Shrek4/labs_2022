{
 "cells": [
  {
   "cell_type": "code",
   "execution_count": 66,
   "metadata": {},
   "outputs": [],
   "source": [
    "from mnist import MNIST\n",
    "import numpy as np\n",
    "import matplotlib.pyplot as plt\n",
    "import sys\n",
    "mndata = MNIST('./2')\n",
    "# from scipy.special import expit\n"
   ]
  },
  {
   "cell_type": "code",
   "execution_count": 67,
   "metadata": {},
   "outputs": [],
   "source": [
    "# np.set_printoptions(threshold=sys.maxsize)\n",
    "# np.set_printoptions(threshold=30)"
   ]
  },
  {
   "cell_type": "code",
   "execution_count": 68,
   "metadata": {},
   "outputs": [
    {
     "name": "stdout",
     "output_type": "stream",
     "text": [
      "[0.98201379 0.99330715 0.99752738]\n",
      "[0.09003057 0.24472847 0.66524096]\n"
     ]
    }
   ],
   "source": [
    "def sig(v):\n",
    "    return 1/(1 + np.exp(-v))\n",
    "    # return expit(v)\n",
    "\n",
    "def softmax(A):\n",
    "    expA = np.exp(A-A.max())\n",
    "    return expA / expA.sum()\n",
    "\n",
    "nums = np.array([4, 5, 6])\n",
    "\n",
    "shrek=np.vectorize(sig)\n",
    "print(shrek(nums))\n",
    "print(softmax(nums))"
   ]
  },
  {
   "cell_type": "markdown",
   "metadata": {},
   "source": [
    "## обучение"
   ]
  },
  {
   "cell_type": "code",
   "execution_count": 69,
   "metadata": {},
   "outputs": [],
   "source": [
    "a=0.01 # скорость обучения\n",
    "h=300 # длина скрытого слоя\n",
    "max_epochs=1 # эпохи обучения"
   ]
  },
  {
   "cell_type": "code",
   "execution_count": 70,
   "metadata": {},
   "outputs": [],
   "source": [
    "images_train, labels_train = mndata.load_training()\n",
    "fist=mndata.process_images_to_numpy(images_train)\n",
    "ass=mndata.process_labels(labels_train)\n",
    "y=ass # правильные ответы"
   ]
  },
  {
   "cell_type": "code",
   "execution_count": 71,
   "metadata": {},
   "outputs": [
    {
     "name": "stdout",
     "output_type": "stream",
     "text": [
      "[[0. 0. 0. ... 0. 0. 0.]\n",
      " [0. 0. 0. ... 0. 0. 0.]\n",
      " [0. 0. 0. ... 0. 0. 0.]\n",
      " ...\n",
      " [0. 0. 0. ... 0. 0. 0.]\n",
      " [0. 0. 0. ... 0. 0. 0.]\n",
      " [0. 0. 0. ... 0. 0. 0.]]\n",
      "(60000, 784)\n"
     ]
    }
   ],
   "source": [
    "b1=np.random.rand(1,h) # сдвиг 1 слоя\n",
    "b2=np.random.rand(1,10) # сдвиг 2 слоя\n",
    "\n",
    "x=(fist/255) # входные нейроны\n",
    "# x=np.hstack((x, np.ones((len(x),1))))\n",
    "print(x)\n",
    "print(np.shape(x))"
   ]
  },
  {
   "cell_type": "code",
   "execution_count": 72,
   "metadata": {},
   "outputs": [
    {
     "name": "stdout",
     "output_type": "stream",
     "text": [
      "[[ 0.02742697  0.02369591 -0.0357826  ... -0.06168667 -0.05013033\n",
      "   0.03754351]\n",
      " [ 0.08263333  0.0270452   0.21885642 ...  0.24510796  0.0121293\n",
      "   0.06330918]\n",
      " [-0.03271195 -0.00386966 -0.1227616  ...  0.00540225 -0.1664252\n",
      "  -0.00228239]\n",
      " ...\n",
      " [ 0.02729138  0.21624566  0.10236131 ... -0.00100595  0.02352503\n",
      "   0.00625824]\n",
      " [ 0.15347432 -0.13346128 -0.0096259  ... -0.02998644 -0.14533817\n",
      "  -0.01811631]\n",
      " [-0.01776167 -0.22927436  0.21296933 ... -0.03356106 -0.04917053\n",
      "  -0.02298506]]\n",
      "(784, 300)\n",
      "[[-0.01686341  0.03882004  0.10470072 ... -0.04171357 -0.10117476\n",
      "   0.05514721]\n",
      " [ 0.04698999  0.00873478  0.05335268 ...  0.11682329  0.15227932\n",
      "  -0.0842535 ]\n",
      " [ 0.00388548 -0.08153118 -0.12338044 ...  0.05019869 -0.09837877\n",
      "   0.05857186]\n",
      " ...\n",
      " [-0.02377207  0.08342246 -0.10244243 ... -0.11417029  0.16236815\n",
      "  -0.01513207]\n",
      " [ 0.02369503 -0.08758534  0.00117053 ...  0.03158415  0.0692376\n",
      "  -0.10899173]\n",
      " [ 0.21966764  0.08841071  0.11735284 ... -0.04845711  0.06085805\n",
      "  -0.00601015]]\n",
      "(300, 10)\n"
     ]
    }
   ],
   "source": [
    "w1=np.random.normal(0, 0.1, (784,h)) # веса 1 слоя\n",
    "# w1=np.vstack((w1, b1))\n",
    "print(w1)\n",
    "print(np.shape(w1))\n",
    "\n",
    "w2=np.random.normal(0, 0.1, (h,10)) # веса 2 слоя\n",
    "# w2=np.vstack((w2, b2))\n",
    "print(w2)\n",
    "print(np.shape(w2))"
   ]
  },
  {
   "cell_type": "code",
   "execution_count": 73,
   "metadata": {},
   "outputs": [],
   "source": [
    "temp=np.eye(10)\n",
    "shrek_sig=np.vectorize(sig)\n",
    "\n",
    "# i=0\n",
    "# # print(np.shape(x[0]), np.shape(w1))\n",
    "# # print(x[i], w1)\n",
    "# y1_1=x[i]@w1 # (300,)\n",
    "# # print(np.shape(y1_1))\n",
    "# # print(y1_1)\n",
    "# y1_1=shrek_sig(y1_1) # (300,)\n",
    "# # y1_1=np.hstack((y1_1, np.ones(1))) # (301, 10)\n",
    "# # print(np.shape(y1_1), np.shape(w2))\n",
    "# # print(y1_1)\n",
    "# y1_2=y1_1@w2 # (10,)\n",
    "# # print(y1_2)\n",
    "# # print(np.shape(y1_2))\n",
    "# y1_2=softmax(y1_2)\n",
    "# # print(np.shape(y1_2))\n",
    "# # print(y1_2)\n",
    "\n",
    "# delta2=y1_2-temp[y[0]] # (10,)\n",
    "# # print(delta2)\n",
    "# # print(np.shape(delta2))\n",
    "# dLi_dW2=y1_1.reshape((h,1))@delta2.reshape((1,10)) # (300, 10)\n",
    "# Ih=np.ones((1,h))\n",
    "# delta1=(y1_1*(Ih-y1_1))*(delta2@w2.T) # (1, 300)\n",
    "# # print(delta1)\n",
    "# # print(np.shape(delta1))\n",
    "# dLi_dW1=x[i].reshape((784,1))@delta1 # (784, 300)\n",
    "\n",
    "# print(dLi_dW1)\n",
    "# print(np.shape(dLi_dW1))\n",
    "# # print(dLi_dW2)\n",
    "# # print(np.shape(dLi_dW2))\n",
    "# w1=w1-(a*dLi_dW1)\n",
    "# w2=w2-(a*dLi_dW2)\n",
    "\n",
    "for epoch in range(max_epochs):\n",
    "    for i in range(len(x)):\n",
    "        y1_1=x[i]@w1 # (300,)\n",
    "        y1_1=shrek_sig(y1_1) # (300,)\n",
    "        # y1_1=np.hstack((y1_1, np.ones(1))) # (301, 10)\n",
    "        y1_2=y1_1@w2 # (10,)\n",
    "        y1_2=softmax(y1_2)\n",
    "\n",
    "        delta2=y1_2-temp[y[i]] # (10,)\n",
    "        dLi_dW2=y1_1.reshape((h,1))@delta2.reshape((1,10)) # (300, 10)\n",
    "        Ih=np.ones((1,h))\n",
    "        delta1=(y1_1*(Ih-y1_1))*(delta2@w2.T) # (1, 300)\n",
    "        dLi_dW1=x[i].reshape((784,1))@delta1 # (300, 300)\n",
    "\n",
    "        w1=w1-(a*dLi_dW1)\n",
    "        w2=w2-(a*dLi_dW2)"
   ]
  },
  {
   "cell_type": "code",
   "execution_count": 74,
   "metadata": {},
   "outputs": [
    {
     "name": "stdout",
     "output_type": "stream",
     "text": [
      "[[4.57899191e-10 2.45831370e-11 4.62684563e-10 3.65501707e-08\n",
      "  3.74201815e-13 2.22715464e-07 2.06474739e-11 2.05299455e-10\n",
      "  1.77780083e-10 2.67081533e-10]\n",
      " [5.06247395e-05 2.37031643e-13 3.28606008e-10 2.66832805e-10\n",
      "  6.11407773e-13 4.54374284e-09 4.46635516e-11 7.00700526e-11\n",
      "  1.83050778e-10 5.44509326e-10]\n",
      " [1.27848012e-11 3.02004597e-11 1.28563860e-09 2.90609020e-09\n",
      "  1.49855194e-07 6.28392381e-11 5.11414802e-11 2.23365918e-10\n",
      "  3.01461502e-11 7.39327015e-09]\n",
      " [1.43402862e-12 1.12428420e-06 1.66771323e-09 4.99196956e-10\n",
      "  4.39582344e-11 2.21044462e-10 1.39895975e-11 3.93464549e-11\n",
      "  2.47073508e-09 3.94149975e-11]\n",
      " [6.90517146e-13 1.46944150e-10 6.69801532e-12 1.99766493e-11\n",
      "  1.04231527e-07 1.01772490e-10 5.08156868e-12 3.15499638e-09\n",
      "  1.70632939e-09 2.07438093e-06]\n",
      " [7.53762518e-10 1.90215279e-12 1.53786237e-06 7.35803047e-10\n",
      "  3.70872935e-12 3.40156356e-10 1.33312582e-11 1.98412812e-11\n",
      "  4.75484013e-09 2.03716987e-09]\n",
      " [1.75511646e-15 2.26601689e-05 1.30967996e-09 1.36798448e-08\n",
      "  5.33348110e-11 8.66272378e-11 7.57381200e-11 2.90428944e-11\n",
      "  1.21509368e-09 2.79096238e-10]\n",
      " [3.46153107e-10 3.92818649e-12 2.22868312e-09 5.26881246e-06\n",
      "  4.76903994e-12 8.68594329e-10 7.45705436e-14 1.24587553e-11\n",
      "  4.47884022e-09 4.77263578e-09]\n",
      " [2.33908013e-14 2.47712924e-06 1.62629898e-10 2.30861346e-09\n",
      "  2.20884987e-11 3.66318720e-10 2.89922814e-11 1.61089541e-10\n",
      "  8.27110175e-10 7.31840464e-10]\n",
      " [1.55487429e-11 4.79345556e-12 6.10622039e-10 3.71035325e-12\n",
      "  1.34728166e-05 1.09947159e-09 2.18261692e-09 7.23288907e-12\n",
      "  6.09128961e-10 1.31809716e-09]\n",
      " [2.71908032e-11 9.45776187e-10 1.89007820e-10 6.06695232e-06\n",
      "  9.67492640e-13 5.94939093e-10 4.71210987e-13 2.09343686e-11\n",
      "  2.77507835e-09 2.62905393e-09]\n",
      " [8.28769828e-11 4.84593769e-09 6.24922654e-09 6.27624634e-11\n",
      "  1.70759798e-10 1.41063941e-07 3.63636113e-11 2.50729994e-12\n",
      "  2.88924789e-09 1.02325983e-12]\n",
      " [8.31668247e-12 1.18522344e-10 3.41775286e-10 2.04980630e-04\n",
      "  1.11472473e-11 8.19501000e-09 3.67386199e-13 5.80202955e-11\n",
      "  3.45105983e-10 1.22052774e-10]\n",
      " [5.11437979e-11 1.82166595e-11 4.66203944e-09 7.00782513e-12\n",
      "  3.14797875e-09 1.77939223e-10 2.55073825e-06 4.22093541e-13\n",
      "  1.28338805e-09 5.85703111e-10]\n",
      " [5.30355187e-14 3.57869986e-06 3.82946189e-10 8.42639561e-10\n",
      "  4.28876397e-12 6.37688262e-10 1.27593458e-10 3.64029148e-11\n",
      "  4.17631076e-09 1.32977321e-10]\n",
      " [6.67680483e-11 1.73701957e-12 3.55838036e-12 1.71857307e-11\n",
      "  6.71697708e-09 6.94670554e-10 1.27984567e-13 5.13815717e-06\n",
      "  2.35575514e-10 1.09051005e-06]\n",
      " [3.84590325e-09 9.43138165e-13 5.75767630e-07 9.93468018e-10\n",
      "  6.85677947e-11 1.94651327e-11 4.66404159e-11 3.12749981e-10\n",
      "  1.77092300e-10 2.81462653e-10]\n",
      " [7.50761879e-12 3.25042769e-09 2.64903936e-10 2.78916188e-10\n",
      "  2.67372064e-11 8.58245479e-10 3.67790901e-12 5.57711525e-12\n",
      "  5.79259754e-07 1.95135233e-09]\n",
      " [4.86062072e-10 4.17916536e-11 3.07914472e-10 1.48416288e-10\n",
      "  1.24416241e-10 9.33881913e-09 6.01485907e-08 1.32862175e-12\n",
      "  2.31583674e-10 2.07156782e-10]\n",
      " [4.39158452e-13 1.01456152e-09 2.78215675e-11 3.33124154e-09\n",
      "  8.41340444e-10 2.89562459e-10 1.24365517e-12 1.56530631e-09\n",
      "  1.08492942e-09 5.90022864e-08]]\n"
     ]
    }
   ],
   "source": [
    "y1_1=x@w1 # (300,)\n",
    "y1_1=shrek_sig(y1_1) # (300,)\n",
    "y1_2=y1_1@w2 # (10,)\n",
    "y1_2=softmax(y1_2)\n",
    "print(y1_2[0:20]) # выходные значения"
   ]
  },
  {
   "cell_type": "markdown",
   "metadata": {},
   "source": [
    "## тестовая выборка"
   ]
  },
  {
   "cell_type": "code",
   "execution_count": 75,
   "metadata": {},
   "outputs": [],
   "source": [
    "images_test, labels_test = mndata.load_testing()\n",
    "fist=mndata.process_images_to_numpy(images_test)\n",
    "ass=mndata.process_labels(labels_test)"
   ]
  },
  {
   "cell_type": "code",
   "execution_count": 76,
   "metadata": {},
   "outputs": [
    {
     "name": "stdout",
     "output_type": "stream",
     "text": [
      "[[0. 0. 0. ... 0. 0. 0.]\n",
      " [0. 0. 0. ... 0. 0. 0.]\n",
      " [0. 0. 0. ... 0. 0. 0.]\n",
      " ...\n",
      " [0. 0. 0. ... 0. 0. 0.]\n",
      " [0. 0. 0. ... 0. 0. 0.]\n",
      " [0. 0. 0. ... 0. 0. 0.]]\n"
     ]
    }
   ],
   "source": [
    "y=ass\n",
    "x=np.around(fist/255)\n",
    "# x=np.hstack((x, np.ones((len(x),1))))\n",
    "print(x) # 10000x785"
   ]
  },
  {
   "cell_type": "code",
   "execution_count": 77,
   "metadata": {},
   "outputs": [],
   "source": [
    "y1_1=x@w1 # (300,)\n",
    "y1_1=shrek_sig(y1_1) # (300,)\n",
    "y1_2=y1_1@w2 # (10,)\n",
    "y1_2=softmax(y1_2)"
   ]
  },
  {
   "cell_type": "code",
   "execution_count": 78,
   "metadata": {},
   "outputs": [],
   "source": [
    "def predict(vector):\n",
    "    return np.argmax(vector)"
   ]
  },
  {
   "cell_type": "code",
   "execution_count": 79,
   "metadata": {},
   "outputs": [
    {
     "name": "stdout",
     "output_type": "stream",
     "text": [
      "0.9164\n"
     ]
    }
   ],
   "source": [
    "right=0\n",
    "for i in range(len(x)):\n",
    "    if(predict(y1_2[i])==y[i]): right+=1\n",
    "\n",
    "accyracy=right/10000\n",
    "print(accyracy) # сколько правильных ответов"
   ]
  }
 ],
 "metadata": {
  "interpreter": {
   "hash": "a1df27bbbad40ecdaee24acfc89f0b5773272cabcb6b66c54293a258d4db6eb4"
  },
  "kernelspec": {
   "display_name": "Python 3.10.1 64-bit",
   "language": "python",
   "name": "python3"
  },
  "language_info": {
   "codemirror_mode": {
    "name": "ipython",
    "version": 3
   },
   "file_extension": ".py",
   "mimetype": "text/x-python",
   "name": "python",
   "nbconvert_exporter": "python",
   "pygments_lexer": "ipython3",
   "version": "3.10.1"
  },
  "orig_nbformat": 4
 },
 "nbformat": 4,
 "nbformat_minor": 2
}
