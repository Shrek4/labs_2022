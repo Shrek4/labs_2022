{
 "cells": [
  {
   "cell_type": "code",
   "execution_count": 75,
   "metadata": {},
   "outputs": [],
   "source": [
    "from mnist import MNIST\n",
    "import numpy as np\n",
    "import matplotlib.pyplot as plt\n",
    "import sys\n",
    "mndata = MNIST('./2')\n",
    "# from scipy.special import expit\n"
   ]
  },
  {
   "cell_type": "code",
   "execution_count": 76,
   "metadata": {},
   "outputs": [],
   "source": [
    "# np.set_printoptions(threshold=sys.maxsize)\n",
    "# np.set_printoptions(threshold=30)"
   ]
  },
  {
   "cell_type": "code",
   "execution_count": 77,
   "metadata": {},
   "outputs": [
    {
     "name": "stdout",
     "output_type": "stream",
     "text": [
      "[0.98201379 0.99330715 0.99752738]\n",
      "[0.09003057 0.24472847 0.66524096]\n"
     ]
    }
   ],
   "source": [
    "def sig(v):\n",
    "    return 1/(1 + np.exp(-v))\n",
    "    # return expit(v)\n",
    "\n",
    "def softmax(A):\n",
    "    expA = np.exp(A)\n",
    "    return expA / expA.sum()\n",
    "\n",
    "nums = np.array([4, 5, 6])\n",
    "\n",
    "shrek=np.vectorize(sig)\n",
    "print(shrek(nums))\n",
    "print(softmax(nums))"
   ]
  },
  {
   "cell_type": "markdown",
   "metadata": {},
   "source": [
    "## обучение"
   ]
  },
  {
   "cell_type": "code",
   "execution_count": 78,
   "metadata": {},
   "outputs": [],
   "source": [
    "a=1 # скорость обучения\n",
    "h=300 # длина скрытого слоя\n",
    "max_epochs=1 # эпохи обучения"
   ]
  },
  {
   "cell_type": "code",
   "execution_count": 79,
   "metadata": {},
   "outputs": [],
   "source": [
    "images_train, labels_train = mndata.load_training()\n",
    "fist=mndata.process_images_to_numpy(images_train)\n",
    "ass=mndata.process_labels(labels_train)\n",
    "y=ass # правильные ответы"
   ]
  },
  {
   "cell_type": "code",
   "execution_count": 80,
   "metadata": {},
   "outputs": [
    {
     "name": "stdout",
     "output_type": "stream",
     "text": [
      "[[0. 0. 0. ... 0. 0. 0.]\n",
      " [0. 0. 0. ... 0. 0. 0.]\n",
      " [0. 0. 0. ... 0. 0. 0.]\n",
      " ...\n",
      " [0. 0. 0. ... 0. 0. 0.]\n",
      " [0. 0. 0. ... 0. 0. 0.]\n",
      " [0. 0. 0. ... 0. 0. 0.]]\n",
      "(60000, 784)\n"
     ]
    }
   ],
   "source": [
    "b1=np.random.rand(1,h) # сдвиг 1 слоя\n",
    "b2=np.random.rand(1,10) # сдвиг 2 слоя\n",
    "\n",
    "x=np.around(fist/255) # входные нейроны\n",
    "# x=np.hstack((x, np.ones((len(x),1))))\n",
    "print(x)\n",
    "print(np.shape(x))"
   ]
  },
  {
   "cell_type": "code",
   "execution_count": 81,
   "metadata": {},
   "outputs": [
    {
     "name": "stdout",
     "output_type": "stream",
     "text": [
      "[[-3.42274112e-02  2.57402876e-02 -9.25645674e-02 ...  8.22140658e-03\n",
      "  -6.94077039e-02  5.49334515e-02]\n",
      " [ 3.74019071e-02  6.64826075e-02  5.94324616e-02 ...  8.07308887e-02\n",
      "   9.34479117e-02 -9.20055332e-03]\n",
      " [-8.35258860e-02  9.75823857e-02  5.80039225e-02 ...  7.33556395e-03\n",
      "  -7.56388823e-02 -6.43407777e-02]\n",
      " ...\n",
      " [ 9.03250486e-02 -8.23736043e-02  4.24077205e-02 ...  9.89968433e-02\n",
      "  -2.37904564e-02 -5.73183556e-02]\n",
      " [-2.35105752e-02 -9.71315089e-02 -2.36900567e-02 ...  6.53856346e-02\n",
      "  -7.76855514e-05 -4.26755175e-03]\n",
      " [-6.97620598e-02  2.80257955e-02 -1.87664592e-02 ... -1.24265852e-02\n",
      "   5.25827043e-02 -3.52124445e-02]]\n",
      "(784, 300)\n",
      "[[ 0.06279068 -0.09879221 -0.09010476 ...  0.00220828 -0.02849588\n",
      "   0.04423373]\n",
      " [ 0.06983541 -0.01204271 -0.01794332 ...  0.06309107  0.06893823\n",
      "  -0.03678003]\n",
      " [ 0.00343416  0.09627238 -0.07951355 ... -0.02086543  0.08981646\n",
      "   0.08901257]\n",
      " ...\n",
      " [-0.03070942  0.02131879 -0.07436102 ...  0.08690139 -0.06609377\n",
      "   0.03495357]\n",
      " [ 0.01077782  0.06703418  0.05722935 ... -0.02070176  0.02908063\n",
      "  -0.03275572]\n",
      " [-0.08287311  0.05875224  0.05015598 ...  0.01795206  0.03778176\n",
      "  -0.01371199]]\n",
      "(300, 10)\n"
     ]
    }
   ],
   "source": [
    "w1=np.random.uniform(-0.1, 0.1, (784,h)) # веса 1 слоя\n",
    "# w1=np.vstack((w1, b1))\n",
    "print(w1)\n",
    "print(np.shape(w1))\n",
    "\n",
    "w2=np.random.uniform(-0.1, 0.1, (h,10)) # веса 2 слоя\n",
    "# w2=np.vstack((w2, b2))\n",
    "print(w2)\n",
    "print(np.shape(w2))"
   ]
  },
  {
   "cell_type": "code",
   "execution_count": 82,
   "metadata": {},
   "outputs": [],
   "source": [
    "temp=np.eye(10)\n",
    "shrek_sig=np.vectorize(sig)\n",
    "\n",
    "# i=0\n",
    "# # print(np.shape(x[0]), np.shape(w1))\n",
    "# # print(x[i], w1)\n",
    "# y1_1=x[i]@w1 # (300,)\n",
    "# # print(np.shape(y1_1))\n",
    "# # print(y1_1)\n",
    "# y1_1=shrek_sig(y1_1) # (300,)\n",
    "# # y1_1=np.hstack((y1_1, np.ones(1))) # (301, 10)\n",
    "# # print(np.shape(y1_1), np.shape(w2))\n",
    "# # print(y1_1)\n",
    "# y1_2=y1_1@w2 # (10,)\n",
    "# # print(y1_2)\n",
    "# # print(np.shape(y1_2))\n",
    "# y1_2=softmax(y1_2)\n",
    "# # print(np.shape(y1_2))\n",
    "# # print(y1_2)\n",
    "\n",
    "# delta2=y1_2-temp[y[0]] # (10,)\n",
    "# # print(delta2)\n",
    "# # print(np.shape(delta2))\n",
    "# dLi_dW2=y1_1.reshape((h,1))@delta2.reshape((1,10)) # (300, 10)\n",
    "# Ih=np.ones((1,h))\n",
    "# delta1=(y1_1*(Ih-y1_1))*(delta2@w2.T) # (1, 300)\n",
    "# # print(delta1)\n",
    "# # print(np.shape(delta1))\n",
    "# dLi_dW1=x[i].reshape((784,1))@delta1 # (300, 300)\n",
    "\n",
    "# # print(dLi_dW1)\n",
    "# # print(np.shape(dLi_dW1))\n",
    "# # print(dLi_dW2)\n",
    "# # print(np.shape(dLi_dW2))\n",
    "# w1=w1-(a*dLi_dW1)\n",
    "# w2=w2-(a*dLi_dW2)\n",
    "\n",
    "for epoch in range(max_epochs):\n",
    "    for i in range(len(x)):\n",
    "        y1_1=x[i]@w1 # (300,)\n",
    "        y1_1=shrek_sig(y1_1) # (300,)\n",
    "        # y1_1=np.hstack((y1_1, np.ones(1))) # (301, 10)\n",
    "        y1_2=y1_1@w2 # (10,)\n",
    "        y1_2=softmax(y1_2)\n",
    "\n",
    "        delta2=y1_2-temp[y[0]] # (10,)\n",
    "        dLi_dW2=y1_1.reshape((h,1))@delta2.reshape((1,10)) # (300, 10)\n",
    "        Ih=np.ones((1,h))\n",
    "        delta1=(y1_1*(Ih-y1_1))*(delta2@w2.T) # (1, 300)\n",
    "        dLi_dW1=x[i].reshape((784,1))@delta1 # (300, 300)\n",
    "\n",
    "        w1=w1-(a*dLi_dW1)\n",
    "        w2=w2-(a*dLi_dW2)"
   ]
  },
  {
   "cell_type": "code",
   "execution_count": 83,
   "metadata": {},
   "outputs": [
    {
     "name": "stdout",
     "output_type": "stream",
     "text": [
      "[[2.79830833e-40 3.48826247e-39 7.28531947e-41 1.79245764e-39\n",
      "  6.92279752e-38 7.60789020e-04 6.26760080e-40 5.98688788e-41\n",
      "  2.49024907e-43 9.67445736e-41]\n",
      " [3.20666305e-40 6.34486802e-39 1.18284710e-40 3.09645880e-39\n",
      "  7.55076802e-38 2.83275195e-05 9.33970058e-40 9.43968379e-41\n",
      "  5.06911097e-43 1.25808217e-40]\n",
      " [5.65334541e-40 8.89647547e-39 2.33641018e-40 4.62972168e-39\n",
      "  7.06432501e-38 6.35444835e-07 1.23681042e-39 1.73878381e-40\n",
      "  1.09419638e-42 1.64536344e-40]\n",
      " [5.23218898e-40 7.51455553e-39 1.87756184e-40 4.43432364e-39\n",
      "  8.40470390e-38 1.21740766e-06 1.18061844e-39 1.61217917e-40\n",
      "  9.77049401e-43 1.64643838e-40]\n",
      " [3.76636738e-40 6.72029424e-39 1.51021800e-40 3.37982405e-39\n",
      "  7.83426664e-38 5.93047264e-06 1.18991812e-39 1.21805996e-40\n",
      "  5.76584357e-43 1.28906812e-40]\n",
      " [3.78785017e-40 6.69744910e-39 1.49486639e-40 2.87380398e-39\n",
      "  5.70506172e-38 1.38672875e-05 9.89190257e-40 1.21186194e-40\n",
      "  6.08444114e-43 1.18882991e-40]\n",
      " [5.27749933e-40 6.74843769e-39 1.62651614e-40 3.71040877e-39\n",
      "  7.57656186e-38 1.17515216e-06 1.23807766e-39 1.74216724e-40\n",
      "  8.50620294e-43 1.77239039e-40]\n",
      " [3.42493329e-40 5.65661546e-39 1.09292717e-40 2.74443426e-39\n",
      "  7.49469846e-38 3.36048722e-05 8.14845644e-40 1.07629561e-40\n",
      "  4.03395221e-43 1.33623019e-40]\n",
      " [5.99712158e-40 7.95484089e-39 1.79612006e-40 4.15809843e-39\n",
      "  8.28306870e-38 6.82015556e-07 1.23040190e-39 1.78429475e-40\n",
      "  1.02749467e-42 1.81328075e-40]\n",
      " [4.13339916e-40 6.28063470e-39 1.44146245e-40 3.65651273e-39\n",
      "  6.98299135e-38 1.07735023e-05 9.87335741e-40 1.04177234e-40\n",
      "  5.70065410e-43 1.15413086e-40]\n",
      " [4.36918735e-40 6.51210006e-39 1.23500339e-40 2.59150577e-39\n",
      "  7.73255962e-38 6.78256045e-06 1.10732271e-39 1.26123077e-40\n",
      "  5.19896042e-43 1.47562881e-40]\n",
      " [5.61080308e-40 7.06069218e-39 1.99584940e-40 5.28075891e-39\n",
      "  7.71282230e-38 6.98277577e-07 1.24745377e-39 1.72876142e-40\n",
      "  1.06544331e-42 1.43913277e-40]\n",
      " [4.89207432e-40 6.50924794e-39 1.43892077e-40 3.33519623e-39\n",
      "  8.63146446e-38 5.95818296e-06 8.67083937e-40 1.15938955e-40\n",
      "  5.93543852e-43 1.70189441e-40]\n",
      " [4.70999813e-40 5.74125291e-39 1.51479246e-40 2.82434603e-39\n",
      "  6.38313984e-38 2.74348677e-05 8.75647591e-40 9.52685298e-41\n",
      "  5.07917225e-43 1.23697804e-40]\n",
      " [5.81051003e-40 8.87626679e-39 1.92229404e-40 4.51101794e-39\n",
      "  8.26400147e-38 4.13678823e-07 1.56581381e-39 2.11699060e-40\n",
      "  1.07593953e-42 1.72542370e-40]\n",
      " [3.40649486e-40 6.23448590e-39 1.21812521e-40 2.79234353e-39\n",
      "  7.40762064e-38 2.94469709e-05 1.04535224e-39 8.76003075e-41\n",
      "  4.85871200e-43 1.06024084e-40]\n",
      " [4.28148699e-40 5.20685810e-39 1.24550011e-40 2.63651414e-39\n",
      "  6.58706915e-38 1.85724891e-05 1.00959079e-39 1.28663226e-40\n",
      "  5.10523392e-43 1.17814342e-40]\n",
      " [3.62346254e-40 4.88062543e-39 1.01904473e-40 2.70289718e-39\n",
      "  7.79370712e-38 4.40617957e-05 9.79956434e-40 8.92242648e-41\n",
      "  4.29382103e-43 1.16829453e-40]\n",
      " [7.77129545e-40 8.11438976e-39 2.19810057e-40 4.86651569e-39\n",
      "  7.33020186e-38 4.24122817e-07 1.45685990e-39 1.89055991e-40\n",
      "  1.01753318e-42 2.18838599e-40]\n",
      " [4.13392724e-40 5.72884788e-39 1.39453794e-40 3.11420873e-39\n",
      "  7.04942948e-38 1.35378546e-05 1.07391991e-39 9.13205197e-41\n",
      "  5.51187309e-43 1.17795241e-40]]\n"
     ]
    }
   ],
   "source": [
    "y1_1=x@w1 # (300,)\n",
    "y1_1=shrek_sig(y1_1) # (300,)\n",
    "y1_2=y1_1@w2 # (10,)\n",
    "y1_2=softmax(y1_2)\n",
    "print(y1_2[0:20]) # выходные значения"
   ]
  },
  {
   "cell_type": "markdown",
   "metadata": {},
   "source": [
    "## тестовая выборка"
   ]
  },
  {
   "cell_type": "code",
   "execution_count": 84,
   "metadata": {},
   "outputs": [],
   "source": [
    "images_test, labels_test = mndata.load_testing()\n",
    "fist=mndata.process_images_to_numpy(images_test)\n",
    "ass=mndata.process_labels(labels_test)"
   ]
  },
  {
   "cell_type": "code",
   "execution_count": 87,
   "metadata": {},
   "outputs": [
    {
     "name": "stdout",
     "output_type": "stream",
     "text": [
      "[[0. 0. 0. ... 0. 0. 0.]\n",
      " [0. 0. 0. ... 0. 0. 0.]\n",
      " [0. 0. 0. ... 0. 0. 0.]\n",
      " ...\n",
      " [0. 0. 0. ... 0. 0. 0.]\n",
      " [0. 0. 0. ... 0. 0. 0.]\n",
      " [0. 0. 0. ... 0. 0. 0.]]\n"
     ]
    }
   ],
   "source": [
    "y=ass\n",
    "x=np.around(fist/255)\n",
    "# x=np.hstack((x, np.ones((len(x),1))))\n",
    "print(x) # 10000x785"
   ]
  },
  {
   "cell_type": "code",
   "execution_count": 89,
   "metadata": {},
   "outputs": [],
   "source": [
    "y1_1=x@w1 # (300,)\n",
    "y1_1=shrek_sig(y1_1) # (300,)\n",
    "y1_2=y1_1@w2 # (10,)\n",
    "y1_2=softmax(y1_2)"
   ]
  },
  {
   "cell_type": "code",
   "execution_count": 90,
   "metadata": {},
   "outputs": [],
   "source": [
    "def predict(vector):\n",
    "    return np.argmax(vector)"
   ]
  },
  {
   "cell_type": "code",
   "execution_count": 91,
   "metadata": {},
   "outputs": [
    {
     "name": "stdout",
     "output_type": "stream",
     "text": [
      "0.0892\n"
     ]
    }
   ],
   "source": [
    "right=0\n",
    "for i in range(len(x)):\n",
    "    if(predict(y1_2[i])==y[i]): right+=1\n",
    "\n",
    "accyracy=right/10000\n",
    "print(accyracy) # сколько правильных ответов"
   ]
  }
 ],
 "metadata": {
  "interpreter": {
   "hash": "a1df27bbbad40ecdaee24acfc89f0b5773272cabcb6b66c54293a258d4db6eb4"
  },
  "kernelspec": {
   "display_name": "Python 3.10.1 64-bit",
   "language": "python",
   "name": "python3"
  },
  "language_info": {
   "codemirror_mode": {
    "name": "ipython",
    "version": 3
   },
   "file_extension": ".py",
   "mimetype": "text/x-python",
   "name": "python",
   "nbconvert_exporter": "python",
   "pygments_lexer": "ipython3",
   "version": "3.10.1"
  },
  "orig_nbformat": 4
 },
 "nbformat": 4,
 "nbformat_minor": 2
}
