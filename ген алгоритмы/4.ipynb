{
 "cells": [
  {
   "cell_type": "code",
   "execution_count": 1,
   "metadata": {},
   "outputs": [],
   "source": [
    "import random\n",
    "import re\n",
    "import math\n",
    "import numpy as np\n",
    "import matplotlib.pyplot as plt\n",
    "import pandas as pd\n",
    "from operator import itemgetter\n",
    "import sys\n",
    "from mnist import MNIST\n",
    "mndata = MNIST('./2')"
   ]
  },
  {
   "cell_type": "code",
   "execution_count": 2,
   "metadata": {},
   "outputs": [],
   "source": [
    "pokoleniya=100\n",
    "population_size=200\n",
    "chromosome_bodyoncetoldme=784 # длина хромосомы\n",
    "selection_count=100 # сколько особей выбирается в селекции\n",
    "mutation_kek=0.05 # шанс мутации, от 0 до 1\n",
    "log=False # отображение данных после каждой операции"
   ]
  },
  {
   "cell_type": "code",
   "execution_count": 3,
   "metadata": {},
   "outputs": [],
   "source": [
    "images_train, labels_train = mndata.load_training()\n",
    "train_fist=mndata.process_images_to_numpy(images_train)\n",
    "train_ass=mndata.process_labels(labels_train)"
   ]
  },
  {
   "cell_type": "code",
   "execution_count": 4,
   "metadata": {},
   "outputs": [
    {
     "name": "stdout",
     "output_type": "stream",
     "text": [
      "[0 1 1 ... 1 0 1]\n"
     ]
    }
   ],
   "source": [
    "train_filter = []\n",
    "for element in train_ass:\n",
    "  if (element==0)|(element==1):\n",
    "    train_filter.append(True)\n",
    "  else:\n",
    "    train_filter.append(False)\n",
    "\n",
    "x=np.around(train_fist/255)[train_filter] # нейроны\n",
    "y=np.array(train_ass)[train_filter]\n",
    "\n",
    "print(y)"
   ]
  },
  {
   "cell_type": "code",
   "execution_count": 5,
   "metadata": {},
   "outputs": [],
   "source": [
    "def f(v): # функция активации\n",
    "    if(v>0): return 1\n",
    "    else: return 0\n",
    "\n",
    "activ=np.vectorize(f)"
   ]
  },
  {
   "cell_type": "code",
   "execution_count": 7,
   "metadata": {},
   "outputs": [],
   "source": [
    "def generate_population(size):\n",
    "    result=[]\n",
    "    for kek in range(size):\n",
    "        w=[]\n",
    "        for i in range(chromosome_bodyoncetoldme):\n",
    "            w.append(random.uniform(-1, 1))\n",
    "        result.append(w)\n",
    "    return result\n",
    "\n",
    "# print(generate_population(1)[0])"
   ]
  },
  {
   "cell_type": "code",
   "execution_count": 158,
   "metadata": {},
   "outputs": [
    {
     "data": {
      "text/plain": [
       "0.5480457954994078"
      ]
     },
     "execution_count": 158,
     "metadata": {},
     "output_type": "execute_result"
    }
   ],
   "source": [
    "def predict(vector):\n",
    "    result=0\n",
    "    for i in range(2):\n",
    "        if(vector==1): result=i\n",
    "    return result\n",
    "\n",
    "# функция приспособленности\n",
    "def prisposobl(w):\n",
    "    # w=np.array(w).reshape(len(w),1)\n",
    "    y1=x@w\n",
    "    y1=activ(y1)\n",
    "    right=0\n",
    "    for i in range(len(x)):\n",
    "        if(predict(y1[i])==y[i]): right+=1\n",
    "\n",
    "    total=len(x)\n",
    "    accyracy=right/total\n",
    "    return accyracy # сколько правильных ответов\n",
    "\n",
    "sex=generate_population(1)[0]\n",
    "# print(sex)\n",
    "prisposobl(sex)"
   ]
  },
  {
   "cell_type": "code",
   "execution_count": 159,
   "metadata": {},
   "outputs": [],
   "source": [
    "def print_population(data):\n",
    "    df=pd.DataFrame(data)\n",
    "    print(df)\n",
    "\n",
    "# худший результат в популяции\n",
    "def population_best_result(data):\n",
    "    penis=[]\n",
    "    for i in data:\n",
    "        penis.append((prisposobl(i), i))\n",
    "    best_shrek=sorted(penis, key=itemgetter(0), reverse=True)[0]\n",
    "\n",
    "    return (best_shrek)\n",
    "\n",
    "# лучший результат в популяции\n",
    "def population_max_result(data):\n",
    "    penis=[]\n",
    "    for i in data:\n",
    "        penis.append((prisposobl(i), i))\n",
    "    max_shrek=sorted(penis, key=itemgetter(0))[0]\n",
    "\n",
    "    return (max_shrek)\n",
    "\n",
    "# средний результат в популяции\n",
    "def population_average_result(data):\n",
    "    penis=[]\n",
    "    for i in data:\n",
    "        penis.append((prisposobl(i)))\n",
    "    result=np.mean(penis)\n",
    "\n",
    "    return result\n",
    "\n",
    "# sex=generate_population(5)\n",
    "# print(population_best_result(sex))\n",
    "# print(population_max_result(sex))\n",
    "# print(population_average_result(sex))"
   ]
  },
  {
   "cell_type": "code",
   "execution_count": 160,
   "metadata": {},
   "outputs": [],
   "source": [
    "\n",
    "def roulette_selection(data, sel_count):\n",
    "    pool=[]\n",
    "    sectors=[]\n",
    "    wheel=[]\n",
    "    f_sum=0\n",
    "\n",
    "    for chromosome in data:\n",
    "        f=prisposobl(chromosome)\n",
    "        f_sum+=f\n",
    "    for chromosome in data:\n",
    "        f=prisposobl(chromosome)\n",
    "        v=f/f_sum*100\n",
    "        sectors.append((v, chromosome))\n",
    "    point=0\n",
    "    for i in range(0,len(sectors)-1):\n",
    "        wheel.append((sectors[i][1], (point, point+sectors[i][0])))\n",
    "        point+=sectors[i][0]\n",
    "        if(i==len(sectors)-2): \n",
    "            wheel.append((sectors[i][1], (point, 100)))\n",
    "    for i in range(sel_count):\n",
    "        choice=random.randint(0,100)\n",
    "        for j in wheel:\n",
    "            if((choice>=j[1][0]) and (choice<=j[1][1])): \n",
    "                pool.append(j[0])\n",
    "                break\n",
    "    \n",
    "    return pool\n",
    "\n",
    "# roulette_selection(generate_population(10), 5)"
   ]
  },
  {
   "cell_type": "code",
   "execution_count": 161,
   "metadata": {},
   "outputs": [],
   "source": [
    "\n",
    "def simple_selection(data, sel_count):\n",
    "    pool=[]\n",
    "    adaptation=[]\n",
    "    for chromosome in data:\n",
    "        adaptation.append((prisposobl(chromosome), chromosome))\n",
    "    adaptation=sorted(adaptation, key=itemgetter(0), reverse=True)\n",
    "    for i in range(0, sel_count):\n",
    "        pool.append(adaptation[i][1])\n",
    "\n",
    "    return pool\n",
    "\n",
    "# simple_selection(generate_population(10), 5)"
   ]
  },
  {
   "cell_type": "code",
   "execution_count": 162,
   "metadata": {},
   "outputs": [
    {
     "data": {
      "text/plain": [
       "([1, 7, 3, 4, 6, 5, 2, 8], [8, 2, 6, 5, 3, 4, 7, 1])"
      ]
     },
     "execution_count": 162,
     "metadata": {},
     "output_type": "execute_result"
    }
   ],
   "source": [
    "\n",
    "def permutation_crossover(parent1, parent2, chromo_length):\n",
    "    chromo_length-=2\n",
    "    par1_start=parent1[0]\n",
    "    par2_start=parent2[0]\n",
    "    par1_end=parent1[len(parent1)-1]\n",
    "    par2_end=parent2[len(parent1)-1]\n",
    "    parent1=parent1[1:len(parent1)-1]\n",
    "    parent2=parent2[1:len(parent2)-1]\n",
    "\n",
    "    pos1=random.randint(1, chromo_length//2-1)\n",
    "    pos2=random.randint(pos1+1, chromo_length-1)\n",
    "    middle=parent1[pos1:pos2+1]\n",
    "    shrek=[]\n",
    "    for i in parent2:\n",
    "        if not (i in middle): shrek.append(i)\n",
    "    child1=[]\n",
    "    for i in range(0, chromo_length-1):\n",
    "        if(i<pos1): child1.append(shrek.pop(0))\n",
    "        elif(i==pos1): child1+=middle\n",
    "        elif(i==pos2): child1.append(shrek.pop(0))\n",
    "        elif(i>pos2) and (len(shrek)>0): child1.append(shrek.pop(0))\n",
    "        elif(i>pos2) and (len(shrek)==0): child1.append(parent2[i])\n",
    "    \n",
    "    middle=parent2[pos1:pos2+1]\n",
    "    shrek=[]\n",
    "    for i in parent1:\n",
    "        if not (i in middle): shrek.append(i)\n",
    "    child2=[]\n",
    "    for i in range(0, chromo_length-1):\n",
    "        if(i<pos1): child2.append(shrek.pop(0))\n",
    "        elif(i==pos1): child2+=middle\n",
    "        elif(i==pos2): child2.append(shrek.pop(0))\n",
    "        elif(i>pos2) and (len(shrek)>0): child2.append(shrek.pop(0))\n",
    "        elif(i>pos2) and (len(shrek)==0): child2.append(parent1[i])\n",
    "\n",
    "    child1.insert(0, par1_start)\n",
    "    child1.append(par1_end)\n",
    "    child2.insert(0, par2_start)\n",
    "    child2.append(par2_end)\n",
    "    return child1, child2\n",
    "\n",
    "permutation_crossover([1,2,3,4,5,6,7,8], [8,7,6,5,4,3,2,1], 8)"
   ]
  },
  {
   "cell_type": "code",
   "execution_count": 163,
   "metadata": {},
   "outputs": [
    {
     "data": {
      "text/plain": [
       "([1, 2, 3, 6, 5, 4, 7, 8], [8, 7, 6, 3, 4, 5, 2, 1])"
      ]
     },
     "execution_count": 163,
     "metadata": {},
     "output_type": "execute_result"
    }
   ],
   "source": [
    "\n",
    "def two_point_crossover(parent1, parent2, chromo_length):\n",
    "    chromo_length-=2\n",
    "    par1_start=parent1[0]\n",
    "    par2_start=parent2[0]\n",
    "    par1_end=parent1[len(parent1)-1]\n",
    "    par2_end=parent2[len(parent1)-1]\n",
    "    parent1=parent1[1:len(parent1)-1]\n",
    "    parent2=parent2[1:len(parent2)-1]\n",
    "\n",
    "    pos1=random.randint(1, chromo_length//2-1)\n",
    "    pos2=random.randint(pos1+1, chromo_length-1)\n",
    "\n",
    "    child1=parent1[0:pos1]+parent2[pos1-1:pos2]+parent1[pos2+1:chromo_length]\n",
    "    child2=parent2[0:pos1]+parent1[pos1-1:pos2]+parent2[pos2+1:chromo_length]\n",
    "\n",
    "    child1.insert(0, par1_start)\n",
    "    child1.append(par1_end)\n",
    "    child2.insert(0, par2_start)\n",
    "    child2.append(par2_end)\n",
    "    return child1, child2\n",
    "\n",
    "two_point_crossover([1,2,3,4,5,6,7,8], [8,7,6,5,4,3,2,1], 8)"
   ]
  },
  {
   "cell_type": "code",
   "execution_count": 164,
   "metadata": {},
   "outputs": [
    {
     "data": {
      "text/plain": [
       "[1, 2, 3, 4, 5, 6, 7, 8]"
      ]
     },
     "execution_count": 164,
     "metadata": {},
     "output_type": "execute_result"
    }
   ],
   "source": [
    "def mutation(chromosome, chrom_length):\n",
    "    result=chromosome\n",
    "    choice=random.random()\n",
    "\n",
    "    if(choice-mutation_kek<=0):\n",
    "        pos1=random.randint(0, chrom_length//2-1)\n",
    "        pos2=random.randint(pos1+1, chrom_length-1)\n",
    "        shrek=result[pos1:pos2+1]\n",
    "        for i in range(len(shrek)):\n",
    "            shrek[i]=random.random()\n",
    "        result[pos1:pos2+1]=shrek\n",
    "\n",
    "    return result\n",
    "\n",
    "mutation([1,2,3,4,5,6,7,8], 8)"
   ]
  },
  {
   "cell_type": "markdown",
   "metadata": {},
   "source": [
    "## обучение"
   ]
  },
  {
   "cell_type": "code",
   "execution_count": 168,
   "metadata": {},
   "outputs": [],
   "source": [
    "average_results=[]\n",
    "max_results=[]\n",
    "min_results=[]\n",
    "best=[]\n",
    "\n",
    "elite_size=10\n",
    "\n",
    "if(log):\n",
    "    current_population=generate_population(population_size)\n",
    "    print(\"первая популяция создана:\")\n",
    "    print_population(current_population)\n",
    "    print(\"Лучшее значение приспособленности:\")\n",
    "    print(population_best_result(current_population))\n",
    "\n",
    "    for pok in range(pokoleniya):\n",
    "        print(f\"Поколение {pok+1}\")\n",
    "        if(elite_size>0): \n",
    "            elite=simple_selection(current_population, elite_size)\n",
    "        current_population=roulette_selection(current_population, selection_count) # Здесь менять селекцию\n",
    "        print(\"селекция произведена\")\n",
    "        print(\"результат селекции:\")\n",
    "        print_population(current_population)\n",
    "        print(\"Лучшее значение приспособленности после селекции:\")\n",
    "        print(population_best_result(current_population))\n",
    "        \n",
    "        for i in range((population_size-selection_count-elite_size)//2):\n",
    "            parent1=random.randint(0, selection_count-1)\n",
    "            parent2=random.randint(0, selection_count-1)\n",
    "            while(parent2==parent1): parent2=random.randint(0, selection_count-1)\n",
    "            children=permutation_crossover(current_population[parent1], current_population[parent2], chromosome_bodyoncetoldme) # Здесь менять скрещивание\n",
    "            current_population.append(children[0])\n",
    "            current_population.append(children[1])\n",
    "        if(elite_size>0): \n",
    "            current_population+=elite\n",
    "        if(len(current_population)<population_size): \n",
    "            current_population.append(generate_population(1)[0])\n",
    "        print(\"скрещивание произведено\")\n",
    "        print(\"результат скрещивания:\")\n",
    "        print_population(current_population)\n",
    "        print(\"Лучшее значение приспособленности после скрещивания:\")\n",
    "        print(population_best_result(current_population))\n",
    "\n",
    "        temp=current_population\n",
    "        for i_chel in range(0, len(current_population)-1):\n",
    "            temp[i_chel]=mutation(current_population[i_chel], chromosome_bodyoncetoldme)\n",
    "        current_population=temp\n",
    "\n",
    "        if(elite_size>0): \n",
    "            current_population+=elite\n",
    "        if(len(current_population)<population_size): \n",
    "            current_population.append(generate_population(1)[0])\n",
    "        print(\"мутация произведена\")\n",
    "        print(\"результат мутации:\")\n",
    "        print_population(current_population)\n",
    "        print(\"Лучшее значение приспособленности после мутации:\")\n",
    "        sas1=population_best_result(current_population)\n",
    "        print(sas1)\n",
    "        min_results.append(sas1[0])\n",
    "        max_results.append(population_max_result(current_population)[0])\n",
    "        average_results.append(population_average_result(current_population))\n",
    "        best=sas1[1]\n",
    "\n",
    "        print(f\"Конец {pok+1} поколения\")"
   ]
  },
  {
   "cell_type": "code",
   "execution_count": 169,
   "metadata": {},
   "outputs": [
    {
     "name": "stdout",
     "output_type": "stream",
     "text": [
      "Лучший результат в конце 100 поколения:\n",
      "0.9904461113304383 [0.13120895432774193, -0.024211694530406058, 0.045093512064503294, 0.9598990862125363, -0.7968206446896249, -0.5304809048490224, 0.3509750651515089, 0.3979921584255137, -0.8005267322860485, 0.10619753339000537, 0.7759493253278762, 0.5127202365773327, 0.5067034983591481, -0.6709208550616015, -0.1027313188671366, -0.5417202433575061, -0.5954326144007114, 0.9074163767439822, -0.22196868525994828, -0.07151129367906961, -0.26261648388339576, -0.6904460602955151, -0.6867421758557535, 0.12167791304792286, -0.7322069190842644, 0.49686444322290124, 0.7121092628217642, 0.3210799837400875, -0.8752990682142967, 0.35708839240643653, -0.21088419882494303, 0.9446540748999979, -0.3501355899014198, -0.36819087709980325, 0.09306273780922125, 0.6339097774469995, 0.8512806522231611, 0.3026485189156066, 0.26494080581364843, 0.5612297587422306, -0.5009121006433639, -0.7867548494166188, 0.9990662730539572, -0.5599193870171264, -0.296309428569167, 0.10509452958004561, 0.05072470596934853, 0.14291494372997837, 0.06938295219666335, -0.42971974959266723, -0.40034537189469366, 0.9025745534072418, 0.6429932946905002, 0.7788760651822193, -0.5668061023679043, 0.5015059927662, 0.8742915930082937, -0.7130751265105051, -0.3254613241258555, -0.5708210507551439, 0.7476747948631028, 0.6152656468565199, -0.4325312009046389, 0.3790005787327886, 0.8403835672791737, 0.903120181029665, 0.03112098053237511, 0.32199224167577867, -0.3956667163850762, -0.3443766921653868, -0.6279600443084199, -0.9639078649501265, 0.036768960410858975, -0.604455484275666, -0.1635914175105071, -0.8923490820462341, 0.5166588014300715, -0.33276271871957785, 0.6612400459730703, 0.17722678920722923, 0.05435193410992989, 0.4755246336350283, 0.7443538581563021, 0.6022928682082467, 0.21237514662308876, 0.17424129000383237, -0.48679695925450517, 0.03163279412043063, -0.23729650882677644, -0.05460371284109322, 0.5891788389865127, -0.576887087736516, 0.6574401901282183, -0.5218664226377034, 0.857277516503808, 0.7493192446860686, -0.7700018602941536, -0.22709497219123698, 0.859663531397193, -0.7534803530677467, 0.8407745383739063, 0.19072532967763967, 0.008891070767326203, 0.9827666403850173, -0.30659581409207637, -0.09501076159975841, -0.6319735641966169, -0.6038511761396161, -0.9385317290027475, -0.3673624658071539, -0.9164467306492785, 0.7244776589796953, -0.9523705990728313, -0.6542707325509312, -0.5462195293352807, 0.315649425761368, -0.18746518922109012, 0.3786209686905737, -0.9405520022654508, -0.11722134614653568, 0.3820695307381792, 0.46642636761233236, 0.578490191150691, 0.3275157232657897, 0.6716571759941421, 0.6291375683647635, -0.5030577066166952, 0.6207326657590211, 0.06438805422218907, 0.9879205352415292, -0.8514027983184902, 0.35469628957115784, -0.7327436435000065, 0.3446534668125327, 0.7661273393672265, 0.707262486040986, -0.7052025496577778, -0.7602854530142373, 0.044761206344806403, 0.8058629515674298, 0.08864549510785746, -0.048212463415327145, -0.6877297609698063, 0.19060122987017558, -0.057137337417061396, -0.5552249124820323, 0.7419005544827897, 0.43925592648083067, -0.7877668078349545, 0.3894859120229981, -0.7228183255831906, -0.28118335533270744, -0.25936175343998635, 0.2820515584785477, 0.33163231711463736, -0.32536915103258246, -0.2250243273788446, -0.08551651522887571, -0.011228151016225763, 0.7789057876313747, -0.2224209836569364, -0.02743640867384811, 0.336013532448465, 0.1099619282913149, 0.6600534093706838, 0.48339920348040466, 0.5834687723912713, 0.7128374140821079, 0.5876576061001593, 0.527458818742397, -0.41502453909921155, 0.5595745388600339, -0.36136457259288446, 0.7366125772597107, 0.07559616114022338, 0.6514330122444141, 0.17420698033845095, 0.1725067722248268, 0.6235242877538585, -0.796019498908831, 0.6739074855204836, 0.12591115060754055, 0.5260047957661729, 0.791453376553918, -0.5167711694917598, -0.976629034642646, 0.5438804601199287, -0.5358009631729694, -0.3774345103646206, -0.23414178290674248, 0.28833969894705125, -0.282986665392408, 0.3763795907503307, -0.9456850144294431, -0.8914160241462694, -0.7827940244561491, 0.08557408758776419, 0.9426063776401665, 0.507262870104803, -0.7645278681291223, 0.6405649774314681, 0.9805465639021418, -0.8548000886731528, 0.07052690035864306, -0.7807110210542223, -0.7120064678582716, -0.8680062259073025, 0.12644264220661783, -0.3610298942185144, -0.9141601972110966, 0.972295747991585, -0.5215842662093357, -0.26215658225837757, 0.5317175571440342, -0.2926525403904927, 0.20272810760415672, -0.2523783235120254, -0.7810921843955276, 0.08490500359120956, -0.6519721176154094, 0.31293344653920974, 0.5230625544992702, -0.09356486919117168, 0.8246799995225544, -0.6649651666755938, 0.8797346572274085, 0.18989266146093775, 0.7367727505927351, 0.5892590189561175, 0.06474677931848438, 0.08205561858493082, -0.38588689891500394, -0.03310842869403663, 0.34530167813788704, -0.5806962272988372, -0.09411949510437889, -0.12016521182155282, 0.24618821790409484, -0.9739958313910664, 0.3166187712264712, -0.6480586112531552, -0.1291858839644635, -0.38590459107326214, -0.11900335970761367, -0.9680723938602409, 0.5735915870524644, 0.631726751669595, -0.5608232256590797, -0.5039765357111308, -0.8718661966803383, -0.002691706398377347, -0.9550476532903962, 0.1710978281285398, -0.46236734076342434, -0.36509633803720276, 0.04093467277694418, 0.19006102795799906, 0.24340749520589466, 0.1740309025940121, 0.7427197818777718, -0.8507938492771208, -0.128570582203418, 0.4490588198399863, 0.06451345743193992, -0.2358402041062413, 0.20326408140642216, 0.4877909460487708, -0.2623147759691904, -0.10894641754337564, -0.4743002066059847, -0.564422746222375, 0.4371320777357399, -0.7456835046151349, -0.6764940528695769, -0.3622743214294435, 0.15217927267364262, -0.3433515574842947, 0.5739319295930878, -0.4350956653401763, 0.562354145344989, 0.18857885207594927, 0.4691913277426363, -0.9549809912711209, -0.22693210487009785, 0.395318351321843, 0.6157590365465655, -0.3858777778951432, 0.5974971034391203, 0.3275924167048945, 0.30925843355180116, -0.6926398476766971, -0.614068041462065, 0.11816851744949308, 0.19186084034045336, -0.47816638780944576, 0.7726229402926816, 0.15247583680556542, -0.946382239716278, -0.8260176072047267, 0.2995178114052863, -0.3678041672581731, -0.5794872037167933, -0.6554151249808637, 0.20496375377028664, -0.9375311300453564, -0.2726155706235902, 0.8277979264222928, -0.3811522931023552, -0.11381003625203023, -0.00010350262191893833, -0.7908936769111969, 0.38664756831894387, 0.16799106496111404, 0.9026818565313026, -0.06293270958494301, -0.39357821580367114, 0.029416738736772086, 0.2737080240499663, -0.0018772202327779208, 0.2840310826319268, -0.6188733240640238, 0.03216681163162871, 0.8423631260213724, 0.4276823399314367, 0.13519366806035138, 0.6575130974788288, -0.006398656052095442, 0.8466926422039689, -0.627383568806563, 0.8713295636908114, 0.2070461471131868, 0.8747588345738075, 0.13547636773199456, 0.24826073551026062, 0.04907705876070256, 0.7124217161942314, 0.3164554158829007, -0.05895654335865297, -0.9981730507845203, 0.682890381265242, 0.3741620791944944, -0.029016093556130107, 0.1684513791424902, -0.8185746212448068, 0.34285001052187924, -0.5752299936525198, 0.30670503384186265, -0.4852323307130313, -0.037020102862862725, 0.5723234985089865, -0.45493679050245706, -0.07091086602449814, 0.8547003578831265, 0.9306465913828847, -0.5305618108329928, -0.8038421725626403, 0.930382841777873, -0.9603384068467471, 0.4207074674527529, -0.5186646415617127, 0.6558792266144198, -0.680894314554465, 0.7494553874650682, 0.7795041208035804, -0.6821647040268992, 0.7530954416613733, 0.5263950345065525, 0.015471069126519188, -0.1643186819080682, -0.40167430178537256, -0.14026504107751347, -0.6583157384820122, -0.20709664196147726, -0.43512609874072883, -0.011445264316712667, 0.49561721824731286, 0.6476111765212877, 0.951508843771274, -0.06492448057145639, 0.9638647077660412, -0.7904906007026571, 0.6603500151758246, -0.9325001043115788, -0.10979200670009859, -0.20648815347129146, 0.0394240632930678, -0.11812427114539203, 0.9999038454011182, -0.2091056738794208, -0.8545675184087465, -0.2130959349683137, 0.05888985890870946, 0.4409654440815225, 0.44431636180690526, -0.759640402541885, -0.6056594645694415, -0.3847889403403364, 0.32261279790112685, 0.33548242158217567, -0.779459378791044, -0.9602807138279357, 0.3713526388235038, 0.2485657634087053, -0.47884645780314594, 0.4267329591369575, 0.6090918768171467, 0.7629731613910116, 0.9322844930326668, 0.4731340126218897, -0.5605852356760108, 0.1804544125935661, 0.6819907269739558, 0.06585412703333104, 0.2793937235511261, -0.3852624530665967, 0.20251371790598882, -0.40437718488419727, 0.09732093883661008, 0.7941594393436244, -0.28595698788135304, -0.2494582897844777, -0.3194245877820445, 0.3644954948343071, 0.1803817879384455, 0.06868195085595152, 0.9543377588615405, 0.09314602365148317, 0.21890238633642145, -0.762627224477908, 0.6329982728979915, -0.23477566596152455, -0.9828312368443799, 0.9355369243906377, 0.2997907973705485, -0.02356665832276228, 0.17503638077337658, 0.16377010400614367, -0.9729214750021435, 0.10163318687178502, -0.947097674288395, -0.6904855197293955, 0.16955598017957296, -0.8674358631820114, -0.8269931439862683, 0.30984165675697684, -0.7658055396601959, 0.6898322834447252, 0.9217230066878164, 0.2646964083199541, 0.40907060937242745, -0.2679397728608053, 0.28365656851252363, -0.5123481302373594, 0.6671198647430252, -0.8358580410050864, -0.30005020606284516, -0.40373533401478956, -0.8920208070031905, -0.8907442471471072, -0.992049130474391, -0.4565287479223832, 0.9935238249532898, -0.300856324274797, 0.122919254280764, -0.5878722337307731, -0.5603132098725712, -0.39835565584084476, -0.7034383948208309, 0.5049255325477588, -0.2864701661400195, -0.5749404338420987, 0.14598255169171148, 0.22275943437290002, -0.9873103304076962, -0.6977433743600634, -0.9807067334594264, 0.3354641612408973, 0.5124446149878314, -0.16955891594242845, 0.7721750878153055, 0.416894515238571, 0.500226980988983, 0.2747330223288844, 0.577695596708975, 0.04472029091646368, 0.6752938866864164, 0.456559941313305, 0.6681937258752482, 0.22301659452510791, 0.28739758679407323, -0.40529404011545744, 0.6516831236957035, -0.04339122328764211, -0.8189495612386315, 0.2077265213132502, 0.6904290208023924, -0.9468264386100969, -0.741789789184242, -0.42263926843065014, -0.7889330607965486, -0.16810696199716002, 0.2783930354699946, -0.06781283294801055, 0.4756133907479736, 0.8332846167796011, -0.077425748218926, 0.9483835539554493, 0.4377370597656789, -0.18714365427602653, -0.8529890283712587, -0.08034382673375262, 0.46793814999883376, -0.35088728998902097, 0.47807168900686436, 0.9966754006536502, 0.06504612330065229, -0.26284023303250525, 0.49497478898804315, 0.37158356306539675, 0.1923952643939244, -0.8713368781833859, 0.4244203832220683, -0.8686624220309198, -0.05629474748985963, 0.7334954336812212, 0.08451041041325813, 0.9684140658582774, -0.5366540728094349, -0.27092874590989746, 0.21829682406475626, 0.604326600986812, -0.054480153602666004, -0.7678147372949025, -0.09988951782168654, 0.04897578098512878, 0.8577506332246287, 0.035569796162356226, -0.016733843617934063, 0.9035313675062981, 0.23292829165418905, 0.24332940101242628, 0.09491713358212928, 0.8532281871322005, 0.7628795852834283, 0.612755132432178, 0.16109396350349403, 0.8225176817649718, -0.7361918454807934, -0.03177909614863483, 0.1382756926491615, 0.23542735768259493, -0.952191302554362, 0.9065276689387047, 0.016225410625097414, 0.5042782320952786, 0.6194510390709362, 0.07611504658902346, 0.6473519136439163, -0.9177008546390009, -0.22714042573134896, -0.9018000868223028, -0.7990688985627974, 0.4710845111125215, -0.6214042157817252, -0.9467085506440505, -0.25128347487452296, -0.24308425244225296, -0.372036469807576, -0.8021164621283363, -0.31600510285185757, -0.5632514551715371, -0.40554927693370235, -0.7554360873194501, 0.0840323240524965, -0.6976600925638763, 0.010583371251115414, -0.21182759327009348, 0.43681399856142233, -0.2171032186827695, -0.7412172086902873, -0.950904456655232, -0.9641605019602333, 0.106620133927668, 0.2881802198544563, -0.6048098173362957, -0.9168527696774547, -0.9308938126947888, -0.13975463415348033, 0.7284270466315022, -0.9513194138422658, -0.8066113847185497, 0.7606471730701021, 0.6190103414987929, -0.5189760551667812, -0.7793892819102664, -0.8124721589583959, -0.27596255056241104, -0.2963908514352711, -0.442126819053946, 0.8080386327070102, 0.6775631177901504, -0.9790536334333615, -0.4215004913823166, 0.38977915725140644, -0.6035498016025278, -0.2735769078497017, -0.43506780124951616, -0.7326860189894575, -0.9023802167776798, 0.22950295299610723, -0.7365610173585015, 0.050681221036762425, -0.9731374550461467, 0.13779254801676188, -0.49736732901084224, -0.7564057312385946, -0.4521425388151512, -0.11138100633408765, -0.46392111652290957, 0.5670650737651313, 0.36671234528321994, -0.2194577520106875, 0.9212045375268132, 0.5823029343990398, 0.8668923644317865, 0.42467418913859123, 0.2664111167932499, 0.0628087363629497, -0.2167137311171612, 0.6654214018586835, -0.19244655041653358, 0.6683912906950189, -0.15960594260208816, 0.15188688342795076, 0.5713094276210451, 0.20427499495064105, 0.016917243179994657, -0.5465854130830778, -0.7265050273561553, 0.5331693649414062, 0.6540633992110392, -0.8370193433093909, 0.6875000118181298, -0.3256160378188355, -0.675522801595237, -0.8304317145585285, -0.5195551405981687, 0.36700962077170707, 0.933762572961901, -0.506373988662816, 0.8359814757717681, -0.07857572740849528, 0.45059462074622614, 0.3776534858120104, -0.678592715294601, -0.37419061421278466, -0.9783028570511458, 0.04936610720283641, -0.7673337283058752, 0.8955854785715656, -0.5933464275947495, -0.24955348574229275, 0.6191782088092623, 0.628923358261501, -0.09330406614800402, 0.23032237009607393, 0.24520923247860238, -0.5785257652899607, -0.3617836430201755, 0.8487787389255761, 0.8445619428039486, 0.9325196620431023, 0.8938253228950237, 0.9640956086779303, 0.5856352921208986, 0.5438532151506885, 0.061426733350178675, 0.3788430670376496, 0.5189986749701908, 0.17238059655492577, 0.5115949677144843, 0.47856551741192366, 0.3341365996541855, 0.4265395287801119, 0.08361759821928982, 0.5226304983953228, 0.5756478334743726, 0.0631693912829292, 0.4713331627299877, 0.7679754012616067, 0.45037957783798166, 0.47091695326651106, 0.1412154132015403, 0.8799508267309839, 0.38379915414292143, 0.605296300961271, 0.19836009886143713, 0.09758183800372011, 0.24777472401156386, 0.9141354258072708, 0.6242215907067574, 0.3871138602009976, 0.8047662678995549, 0.8761902277800966, 0.0003451709765287525, 0.8874753962111085, 0.7471353906616474, 0.6390107996982441, 0.5617719918781523, 0.7972586707486385, 0.8549895257240236, 0.9177134203581617, 0.4066422627749623, 0.5472798153060612, 0.08439790722256779, 0.8069782683218539, 0.7997673881714646, 0.7789358862872129, 0.5806980933319341, 0.5277424290558341, 0.4285053844406792, 0.8465422714689538, 0.4434932730143418, 0.542138211685827, 0.8455857016861683, 0.8376646412919972, 0.6096175367200313, 0.050177172114656776, 0.32737966278175823, 0.7607014662891964, 0.12693283938125188, 0.20489775407681265, 0.21360085483835678, 0.6798002735998091, 0.5856968719375975, 0.47034841859378973, 0.39596613097112476, 0.3362214043260874, 0.2591479650693743, 0.6969065272487764, 0.2057758183431333, 0.7581060319420887, 0.6039074229445685, 0.1824603907708987, 0.4248329909929406, 0.29265027208447403, 0.04797140531382871, 0.4013548621904083, 0.5113108806420136, 0.5742117653243131, 0.8365990040851087, 0.8923155934980721, 0.17883143462100204, 0.8084233775564666, 0.5089945657227959, -0.1483305885597772, 0.68799020901145, -0.799543338742797, -0.9329684379967027, 0.14851490627553043, 0.858162212868431, -0.7784699702474425, -0.4193585468611891, -0.713161437799456, 0.10451338237321162, -0.29875785387894105, -0.6690457241757652, 0.6325679304370431, 0.2720016913370762, -0.1803456581333145, 0.4681284506155716, 0.9334728990471135, 0.7074502271631653, -0.6401622600944741, 0.300905859874965, -0.3773209738930452, -0.8918878603121423, -0.6454144588969521, -0.03636320370652668, 0.21931184160089479, 0.9998657794509539, 0.09775550482082873, 0.06364994414061087, 0.5226940927382431]\n"
     ]
    }
   ],
   "source": [
    "if(not log):\n",
    "    current_population=generate_population(population_size)\n",
    "\n",
    "    for pok in range(pokoleniya):\n",
    "        if(elite_size>0): \n",
    "            elite=simple_selection(current_population, elite_size)\n",
    "        current_population=roulette_selection(current_population, selection_count) # Здесь менять селекцию\n",
    "        \n",
    "        for i in range((population_size-selection_count-elite_size)//2):\n",
    "            parent1=random.randint(0, selection_count-1)\n",
    "            parent2=random.randint(0, selection_count-1)\n",
    "            while(parent2==parent1): parent2=random.randint(0, selection_count-1)\n",
    "            children=permutation_crossover(current_population[parent1], current_population[parent2], chromosome_bodyoncetoldme) # Здесь менять скрещивание\n",
    "            current_population.append(children[0])\n",
    "            current_population.append(children[1])\n",
    "\n",
    "        temp=current_population\n",
    "        for i_chel in range(0, len(current_population)-1):\n",
    "            temp[i_chel]=mutation(current_population[i_chel], chromosome_bodyoncetoldme)\n",
    "        current_population=temp\n",
    "\n",
    "        if(elite_size>0): \n",
    "            current_population+=elite\n",
    "        if(len(current_population)<population_size): \n",
    "            current_population.append(generate_population(1)[0])\n",
    "\n",
    "        sas1=population_best_result(current_population)\n",
    "        min_results.append(sas1[0])\n",
    "        max_results.append(population_max_result(current_population)[0])\n",
    "        average_results.append(population_average_result(current_population))\n",
    "        best=sas1[1]\n",
    "    print(f\"Лучший результат в конце {pokoleniya} поколения:\")\n",
    "    print(min_results[pokoleniya-1], best)"
   ]
  },
  {
   "cell_type": "code",
   "execution_count": 170,
   "metadata": {},
   "outputs": [
    {
     "data": {
      "image/png": "[encoded data removed]",
      "text/plain": [
       "<Figure size 432x288 with 1 Axes>"
      ]
     },
     "metadata": {
      "needs_background": "light"
     },
     "output_type": "display_data"
    }
   ],
   "source": [
    "# график приспособленности по поколениям\n",
    "def draw_progress(average_results, max_results, min_results, pok_count):\n",
    "    x=range(pok_count)\n",
    "    y1=average_results\n",
    "    y2=max_results\n",
    "    y3=min_results\n",
    "    plt.plot(x,y1)\n",
    "    plt.plot(x,y2)\n",
    "    plt.plot(x,y3)\n",
    "    plt.show()\n",
    "\n",
    "draw_progress(average_results, max_results, min_results, pokoleniya)"
   ]
  }
 ],
 "metadata": {
  "interpreter": {
   "hash": "a1df27bbbad40ecdaee24acfc89f0b5773272cabcb6b66c54293a258d4db6eb4"
  },
  "kernelspec": {
   "display_name": "Python 3.10.1 64-bit",
   "language": "python",
   "name": "python3"
  },
  "language_info": {
   "codemirror_mode": {
    "name": "ipython",
    "version": 3
   },
   "file_extension": ".py",
   "mimetype": "text/x-python",
   "name": "python",
   "nbconvert_exporter": "python",
   "pygments_lexer": "ipython3",
   "version": "3.10.1"
  },
  "orig_nbformat": 4
 },
 "nbformat": 4,
 "nbformat_minor": 2
}
